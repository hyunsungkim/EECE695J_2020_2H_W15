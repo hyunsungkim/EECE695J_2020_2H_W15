{
 "cells": [
  {
   "cell_type": "code",
   "execution_count": null,
   "metadata": {},
   "outputs": [],
   "source": [
    "import numpy as np\n",
    "import tensorflow as tf\n",
    "from tensorflow.keras import datasets\n",
    "import matplotlib.pyplot as plt\n",
    "from model import myModel\n",
    "import os\n",
    "import copy\n",
    "\n",
    "os.environ[\"TF_FORCE_GPU_ALLOW_GROWTH\"] = \"true\"\n",
    "tf.random.set_seed(0)\n",
    "BATCH_SIZE = 16"
   ]
  },
  {
   "cell_type": "code",
   "execution_count": null,
   "metadata": {},
   "outputs": [],
   "source": [
    "# Load the testing dataset and the construct a dataloader\n",
    "data = np.load('./data/testset.npz')\n",
    "test_x, test_y = data['test_x'], data['test_y']\n",
    "test_dataset = tf.data.Dataset.from_tensor_slices((test_x, test_y))\n",
    "test_dataset = test_dataset.shuffle(buffer_size=10000).batch(BATCH_SIZE)\n",
    "\n",
    "# Load the pre-trained model\n",
    "model = myModel()\n",
    "baseline = tf.train.latest_checkpoint('./models/')\n",
    "model.load_weights(baseline).expect_partial()\n",
    "opt = tf.keras.optimizers.Adam(learning_rate = 1e-3)\n",
    "model.compile(\n",
    "    optimizer=opt,\n",
    "    loss=tf.keras.losses.SparseCategoricalCrossentropy(),\n",
    "    metrics=['accuracy']\n",
    ")\n",
    "model.build(input_shape=(BATCH_SIZE,10))\n",
    "w_dict, b_dict = model.get_params()\n",
    "\n",
    "w = []\n",
    "for item in model.trainable_variables:\n",
    "    w.extend(item.numpy().ravel())\n",
    "\n",
    "w_sort = np.sort(np.abs(w), kind='mergesort')"
   ]
  },
  {
   "cell_type": "code",
   "execution_count": null,
   "metadata": {
    "scrolled": true
   },
   "outputs": [],
   "source": [
    "#prune_ratios = np.linspace(0,1.0,50)\n",
    "prune_ratios = [0.1, 0.2, 0.3, 0.4, 0.5, 0.6] # USER PARAMETER (PRUNING RATIO)\n",
    "\n",
    "intbit = None  # USER PARAMETER (QUANTIZATION)\n",
    "fracbit = None  # USER PARAMETER (QUANTIZATION)\n",
    "\n",
    "thres_all = {}\n",
    "accuracy_all = {}\n",
    "loss_all = {}\n",
    "\n",
    "for i, prune_ratio in enumerate(prune_ratios):\n",
    "    w_dict_new = copy.deepcopy(w_dict)\n",
    "    b_dict_new = copy.deepcopy(b_dict)\n",
    "    \n",
    "    if(int(len(w)*prune_ratio)>=len(w_sort)):\n",
    "        break\n",
    "        \n",
    "    thres = w_sort[int(len(w)*prune_ratio)]\n",
    "    for m in w_dict_new.keys():\n",
    "        w_dict_new[m][np.abs(w_dict_new[m])<thres] = 0.\n",
    "        b_dict_new[m][np.abs(b_dict_new[m])<thres] = 0.\n",
    "    \n",
    "    my_model = myModel()\n",
    "    baseline = tf.train.latest_checkpoint('./models/')\n",
    "    my_model.load_weights(baseline).expect_partial()\n",
    "    opt = tf.keras.optimizers.Adam(learning_rate = 1e-3)\n",
    "    my_model.compile(\n",
    "        optimizer=opt,\n",
    "        loss=tf.keras.losses.SparseCategoricalCrossentropy(),\n",
    "        metrics=['accuracy']\n",
    "    )\n",
    "    my_model.build(input_shape=(BATCH_SIZE,10))\n",
    "\n",
    "    # Optimize the model\n",
    "    my_model.update_params(w_dict_new, b_dict_new)\n",
    "    my_model.quantize_params(intbit=intbit, fracbit=fracbit)\n",
    "\n",
    "    size, size_base, drop_ratio = my_model.compute_model_size()\n",
    "    loss, accuracy = my_model.evaluate(test_dataset, verbose=3)\n",
    "    \n",
    "    print(f\"Testing step {i:3d}/{len(prune_ratios):d} \\t Prune {prune_ratio*100:3.2f}% (threshold {thres:.12f}) - Dropped {drop_ratio*100:3.2f}% - Accuracy {accuracy*100:3.2f}%\")\n",
    "    \n",
    "    thres_all[prune_ratio] = thres\n",
    "    accuracy_all[prune_ratio] = accuracy\n"
   ]
  },
  {
   "cell_type": "code",
   "execution_count": null,
   "metadata": {},
   "outputs": [],
   "source": [
    "fig, [ax1, ax2] = plt.subplots(2,1, figsize=(10,10))\n",
    "ax1.scatter(list(accuracy_all.keys()), list(accuracy_all.values()), marker='o', s=5)\n",
    "ax1.set_xlabel(\"Pruning rate\")\n",
    "ax1.set_ylabel(\"Accuracy\")\n",
    "ax2.scatter(list(accuracy_all.keys()), list(thres_all.values()), marker='o', s=5)\n",
    "ax2.set_xlabel(\"Pruning rate\")\n",
    "ax2.set_ylabel(\"Threshold\")"
   ]
  },
  {
   "cell_type": "code",
   "execution_count": null,
   "metadata": {},
   "outputs": [],
   "source": []
  }
 ],
 "metadata": {
  "kernelspec": {
   "display_name": "Python 3",
   "language": "python",
   "name": "python3"
  },
  "language_info": {
   "codemirror_mode": {
    "name": "ipython",
    "version": 3
   },
   "file_extension": ".py",
   "mimetype": "text/x-python",
   "name": "python",
   "nbconvert_exporter": "python",
   "pygments_lexer": "ipython3",
   "version": "3.7.3"
  }
 },
 "nbformat": 4,
 "nbformat_minor": 4
}
